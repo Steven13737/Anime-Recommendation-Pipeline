{
 "cells": [
  {
   "cell_type": "code",
   "execution_count": 1,
   "metadata": {},
   "outputs": [],
   "source": [
    "import numpy as np\n",
    "import pandas as pd\n",
    "import matplotlib.pyplot as plt\n",
    "import re\n",
    "import seaborn as sns\n",
    "from sklearn.preprocessing import MaxAbsScaler\n",
    "from sklearn.neighbors import NearestNeighbors\n",
    "import time\n",
    "from sqlalchemy import create_engine\n",
    "\n",
    "%matplotlib inline"
   ]
  },
  {
   "cell_type": "code",
   "execution_count": 4,
   "metadata": {},
   "outputs": [],
   "source": [
    "# read data from database\n",
    "engine = create_engine('<Database sqlalchemy>')\n",
    "sql = \"select * from anime\"\n",
    "df_anime = pd.read_sql_query(sql, engine)"
   ]
  },
  {
   "cell_type": "code",
   "execution_count": 5,
   "metadata": {},
   "outputs": [
    {
     "data": {
      "text/html": [
       "<div>\n",
       "<style scoped>\n",
       "    .dataframe tbody tr th:only-of-type {\n",
       "        vertical-align: middle;\n",
       "    }\n",
       "\n",
       "    .dataframe tbody tr th {\n",
       "        vertical-align: top;\n",
       "    }\n",
       "\n",
       "    .dataframe thead th {\n",
       "        text-align: right;\n",
       "    }\n",
       "</style>\n",
       "<table border=\"1\" class=\"dataframe\">\n",
       "  <thead>\n",
       "    <tr style=\"text-align: right;\">\n",
       "      <th></th>\n",
       "      <th>anime_id</th>\n",
       "      <th>name</th>\n",
       "      <th>genre</th>\n",
       "      <th>type</th>\n",
       "      <th>episodes</th>\n",
       "      <th>rating</th>\n",
       "      <th>members</th>\n",
       "    </tr>\n",
       "  </thead>\n",
       "  <tbody>\n",
       "    <tr>\n",
       "      <th>0</th>\n",
       "      <td>32281</td>\n",
       "      <td>Kimi no Na wa.</td>\n",
       "      <td>Drama, Romance, School, Supernatural</td>\n",
       "      <td>Movie</td>\n",
       "      <td>1</td>\n",
       "      <td>9.37</td>\n",
       "      <td>200630</td>\n",
       "    </tr>\n",
       "    <tr>\n",
       "      <th>1</th>\n",
       "      <td>5114</td>\n",
       "      <td>Fullmetal Alchemist: Brotherhood</td>\n",
       "      <td>Action, Adventure, Drama, Fantasy, Magic, Mili...</td>\n",
       "      <td>TV</td>\n",
       "      <td>64</td>\n",
       "      <td>9.26</td>\n",
       "      <td>793665</td>\n",
       "    </tr>\n",
       "    <tr>\n",
       "      <th>2</th>\n",
       "      <td>28977</td>\n",
       "      <td>Gintama°</td>\n",
       "      <td>Action, Comedy, Historical, Parody, Samurai, S...</td>\n",
       "      <td>TV</td>\n",
       "      <td>51</td>\n",
       "      <td>9.25</td>\n",
       "      <td>114262</td>\n",
       "    </tr>\n",
       "    <tr>\n",
       "      <th>3</th>\n",
       "      <td>9253</td>\n",
       "      <td>Steins;Gate</td>\n",
       "      <td>Sci-Fi, Thriller</td>\n",
       "      <td>TV</td>\n",
       "      <td>24</td>\n",
       "      <td>9.17</td>\n",
       "      <td>673572</td>\n",
       "    </tr>\n",
       "    <tr>\n",
       "      <th>4</th>\n",
       "      <td>9969</td>\n",
       "      <td>Gintama&amp;#039;</td>\n",
       "      <td>Action, Comedy, Historical, Parody, Samurai, S...</td>\n",
       "      <td>TV</td>\n",
       "      <td>51</td>\n",
       "      <td>9.16</td>\n",
       "      <td>151266</td>\n",
       "    </tr>\n",
       "  </tbody>\n",
       "</table>\n",
       "</div>"
      ],
      "text/plain": [
       "   anime_id                              name  \\\n",
       "0     32281                    Kimi no Na wa.   \n",
       "1      5114  Fullmetal Alchemist: Brotherhood   \n",
       "2     28977                          Gintama°   \n",
       "3      9253                       Steins;Gate   \n",
       "4      9969                     Gintama&#039;   \n",
       "\n",
       "                                               genre   type episodes  rating  \\\n",
       "0               Drama, Romance, School, Supernatural  Movie        1    9.37   \n",
       "1  Action, Adventure, Drama, Fantasy, Magic, Mili...     TV       64    9.26   \n",
       "2  Action, Comedy, Historical, Parody, Samurai, S...     TV       51    9.25   \n",
       "3                                   Sci-Fi, Thriller     TV       24    9.17   \n",
       "4  Action, Comedy, Historical, Parody, Samurai, S...     TV       51    9.16   \n",
       "\n",
       "   members  \n",
       "0   200630  \n",
       "1   793665  \n",
       "2   114262  \n",
       "3   673572  \n",
       "4   151266  "
      ]
     },
     "execution_count": 5,
     "metadata": {},
     "output_type": "execute_result"
    }
   ],
   "source": [
    "df_anime.head()"
   ]
  },
  {
   "cell_type": "markdown",
   "metadata": {},
   "source": [
    "## Data preprocess\n",
    "- 1. Deal with episodes"
   ]
  },
  {
   "cell_type": "code",
   "execution_count": 6,
   "metadata": {},
   "outputs": [
    {
     "data": {
      "text/html": [
       "<div>\n",
       "<style scoped>\n",
       "    .dataframe tbody tr th:only-of-type {\n",
       "        vertical-align: middle;\n",
       "    }\n",
       "\n",
       "    .dataframe tbody tr th {\n",
       "        vertical-align: top;\n",
       "    }\n",
       "\n",
       "    .dataframe thead th {\n",
       "        text-align: right;\n",
       "    }\n",
       "</style>\n",
       "<table border=\"1\" class=\"dataframe\">\n",
       "  <thead>\n",
       "    <tr style=\"text-align: right;\">\n",
       "      <th></th>\n",
       "      <th>anime_id</th>\n",
       "      <th>name</th>\n",
       "      <th>genre</th>\n",
       "      <th>type</th>\n",
       "      <th>episodes</th>\n",
       "      <th>rating</th>\n",
       "      <th>members</th>\n",
       "    </tr>\n",
       "  </thead>\n",
       "  <tbody>\n",
       "    <tr>\n",
       "      <th>74</th>\n",
       "      <td>21</td>\n",
       "      <td>One Piece</td>\n",
       "      <td>Action, Adventure, Comedy, Drama, Fantasy, Sho...</td>\n",
       "      <td>TV</td>\n",
       "      <td>Unknown</td>\n",
       "      <td>8.58</td>\n",
       "      <td>504862</td>\n",
       "    </tr>\n",
       "    <tr>\n",
       "      <th>252</th>\n",
       "      <td>235</td>\n",
       "      <td>Detective Conan</td>\n",
       "      <td>Adventure, Comedy, Mystery, Police, Shounen</td>\n",
       "      <td>TV</td>\n",
       "      <td>Unknown</td>\n",
       "      <td>8.25</td>\n",
       "      <td>114702</td>\n",
       "    </tr>\n",
       "    <tr>\n",
       "      <th>615</th>\n",
       "      <td>1735</td>\n",
       "      <td>Naruto: Shippuuden</td>\n",
       "      <td>Action, Comedy, Martial Arts, Shounen, Super P...</td>\n",
       "      <td>TV</td>\n",
       "      <td>Unknown</td>\n",
       "      <td>7.94</td>\n",
       "      <td>533578</td>\n",
       "    </tr>\n",
       "    <tr>\n",
       "      <th>991</th>\n",
       "      <td>966</td>\n",
       "      <td>Crayon Shin-chan</td>\n",
       "      <td>Comedy, Ecchi, Kids, School, Shounen, Slice of...</td>\n",
       "      <td>TV</td>\n",
       "      <td>Unknown</td>\n",
       "      <td>7.73</td>\n",
       "      <td>26267</td>\n",
       "    </tr>\n",
       "    <tr>\n",
       "      <th>1021</th>\n",
       "      <td>33157</td>\n",
       "      <td>Tanaka-kun wa Itsumo Kedaruge Specials</td>\n",
       "      <td>Comedy, School, Slice of Life</td>\n",
       "      <td>Special</td>\n",
       "      <td>Unknown</td>\n",
       "      <td>7.72</td>\n",
       "      <td>5400</td>\n",
       "    </tr>\n",
       "  </tbody>\n",
       "</table>\n",
       "</div>"
      ],
      "text/plain": [
       "      anime_id                                    name  \\\n",
       "74          21                               One Piece   \n",
       "252        235                         Detective Conan   \n",
       "615       1735                      Naruto: Shippuuden   \n",
       "991        966                        Crayon Shin-chan   \n",
       "1021     33157  Tanaka-kun wa Itsumo Kedaruge Specials   \n",
       "\n",
       "                                                  genre     type episodes  \\\n",
       "74    Action, Adventure, Comedy, Drama, Fantasy, Sho...       TV  Unknown   \n",
       "252         Adventure, Comedy, Mystery, Police, Shounen       TV  Unknown   \n",
       "615   Action, Comedy, Martial Arts, Shounen, Super P...       TV  Unknown   \n",
       "991   Comedy, Ecchi, Kids, School, Shounen, Slice of...       TV  Unknown   \n",
       "1021                      Comedy, School, Slice of Life  Special  Unknown   \n",
       "\n",
       "      rating  members  \n",
       "74      8.58   504862  \n",
       "252     8.25   114702  \n",
       "615     7.94   533578  \n",
       "991     7.73    26267  \n",
       "1021    7.72     5400  "
      ]
     },
     "execution_count": 6,
     "metadata": {},
     "output_type": "execute_result"
    }
   ],
   "source": [
    "df_anime.loc[df_anime[\"episodes\"]==\"Unknown\"].head()"
   ]
  },
  {
   "cell_type": "code",
   "execution_count": 7,
   "metadata": {},
   "outputs": [
    {
     "name": "stdout",
     "output_type": "stream",
     "text": [
      "There are 340 records that didnt have info about episodes\n"
     ]
    }
   ],
   "source": [
    "print('There are %d records that didnt have info about episodes'%(len(df_anime.loc[df_anime[\"episodes\"]==\"Unknown\"])))"
   ]
  },
  {
   "cell_type": "markdown",
   "metadata": {},
   "source": [
    "- In this case, we will deal with that in the following ways:\n",
    "    - Movies should have only one episode\n",
    "    - OVA should have only one episodes\n",
    "    - Anime of Hentai categories should also contain one episode\n",
    "    - FOr other anime with 'Unkown' episodes, we filled them with median."
   ]
  },
  {
   "cell_type": "code",
   "execution_count": 8,
   "metadata": {},
   "outputs": [],
   "source": [
    "df_anime.loc[(df_anime[\"genre\"]==\"Hentai\") & (df_anime[\"episodes\"]==\"Unknown\"),\"episodes\"] = \"1\"\n",
    "df_anime.loc[(df_anime[\"type\"]==\"OVA\") & (df_anime[\"episodes\"]==\"Unknown\"),\"episodes\"] = \"1\"\n",
    "\n",
    "df_anime.loc[(df_anime[\"type\"] == \"Movie\") & (df_anime[\"episodes\"] == \"Unknown\")] = \"1\""
   ]
  },
  {
   "cell_type": "code",
   "execution_count": 9,
   "metadata": {},
   "outputs": [
    {
     "data": {
      "text/plain": [
       "286"
      ]
     },
     "execution_count": 9,
     "metadata": {},
     "output_type": "execute_result"
    }
   ],
   "source": [
    "len(df_anime.loc[df_anime[\"episodes\"]==\"Unknown\"])"
   ]
  },
  {
   "cell_type": "code",
   "execution_count": 10,
   "metadata": {},
   "outputs": [],
   "source": [
    "known_animes = {\"Naruto Shippuuden\":500, \"One Piece\":784,\"Detective Conan\":854, \"Dragon Ball Super\":86,\n",
    "                \"Crayon Shin chan\":942, \"Yu Gi Oh Arc V\":148,\"Shingeki no Kyojin Season 2\":25,\n",
    "                \"Boku no Hero Academia 2nd Season\":25,\"Little Witch Academia TV\":25}"
   ]
  },
  {
   "cell_type": "code",
   "execution_count": 11,
   "metadata": {},
   "outputs": [],
   "source": [
    "for k,v in known_animes.items():    \n",
    "    df_anime.loc[df_anime[\"name\"]==k,\"episodes\"] = v\n",
    "    \n",
    "df_anime[\"episodes\"] = df_anime[\"episodes\"].map(lambda x:np.nan if x==\"Unknown\" else x)\n",
    "df_anime[\"episodes\"] = df_anime[\"episodes\"].map(lambda x:np.nan if x==\"Unknown\" else x)\n",
    "df_anime[\"episodes\"].fillna(df_anime[\"episodes\"].median(),inplace = True)"
   ]
  },
  {
   "cell_type": "code",
   "execution_count": 12,
   "metadata": {},
   "outputs": [],
   "source": [
    "assert len(df_anime.loc[df_anime[\"episodes\"]==\"Unknown\"]) == 0"
   ]
  },
  {
   "cell_type": "markdown",
   "metadata": {},
   "source": [
    "- 2.Rating:\n",
    "    - There are also unknown ratings in some anime.\n",
    "    - We also want to fill them with median as well"
   ]
  },
  {
   "cell_type": "code",
   "execution_count": 13,
   "metadata": {},
   "outputs": [
    {
     "data": {
      "text/html": [
       "<div>\n",
       "<style scoped>\n",
       "    .dataframe tbody tr th:only-of-type {\n",
       "        vertical-align: middle;\n",
       "    }\n",
       "\n",
       "    .dataframe tbody tr th {\n",
       "        vertical-align: top;\n",
       "    }\n",
       "\n",
       "    .dataframe thead th {\n",
       "        text-align: right;\n",
       "    }\n",
       "</style>\n",
       "<table border=\"1\" class=\"dataframe\">\n",
       "  <thead>\n",
       "    <tr style=\"text-align: right;\">\n",
       "      <th></th>\n",
       "      <th>anime_id</th>\n",
       "      <th>name</th>\n",
       "      <th>genre</th>\n",
       "      <th>type</th>\n",
       "      <th>episodes</th>\n",
       "      <th>rating</th>\n",
       "      <th>members</th>\n",
       "    </tr>\n",
       "  </thead>\n",
       "  <tbody>\n",
       "    <tr>\n",
       "      <th>8968</th>\n",
       "      <td>34502</td>\n",
       "      <td>Inazma Delivery</td>\n",
       "      <td>Action, Comedy, Sci-Fi</td>\n",
       "      <td>TV</td>\n",
       "      <td>10</td>\n",
       "      <td>NaN</td>\n",
       "      <td>32</td>\n",
       "    </tr>\n",
       "    <tr>\n",
       "      <th>9657</th>\n",
       "      <td>34309</td>\n",
       "      <td>Nananin no Ayakashi: Chimi Chimi Mouryou!! Gen...</td>\n",
       "      <td>Comedy, Supernatural</td>\n",
       "      <td>TV</td>\n",
       "      <td>2</td>\n",
       "      <td>NaN</td>\n",
       "      <td>129</td>\n",
       "    </tr>\n",
       "    <tr>\n",
       "      <th>10896</th>\n",
       "      <td>34096</td>\n",
       "      <td>Gintama (2017)</td>\n",
       "      <td>Action, Comedy, Historical, Parody, Samurai, S...</td>\n",
       "      <td>TV</td>\n",
       "      <td>2</td>\n",
       "      <td>NaN</td>\n",
       "      <td>13383</td>\n",
       "    </tr>\n",
       "    <tr>\n",
       "      <th>10897</th>\n",
       "      <td>34134</td>\n",
       "      <td>One Punch Man 2</td>\n",
       "      <td>Action, Comedy, Parody, Sci-Fi, Seinen, Super ...</td>\n",
       "      <td>TV</td>\n",
       "      <td>2</td>\n",
       "      <td>NaN</td>\n",
       "      <td>90706</td>\n",
       "    </tr>\n",
       "    <tr>\n",
       "      <th>10898</th>\n",
       "      <td>30484</td>\n",
       "      <td>Steins;Gate 0</td>\n",
       "      <td>Sci-Fi, Thriller</td>\n",
       "      <td>None</td>\n",
       "      <td>2</td>\n",
       "      <td>NaN</td>\n",
       "      <td>60999</td>\n",
       "    </tr>\n",
       "  </tbody>\n",
       "</table>\n",
       "</div>"
      ],
      "text/plain": [
       "      anime_id                                               name  \\\n",
       "8968     34502                                    Inazma Delivery   \n",
       "9657     34309  Nananin no Ayakashi: Chimi Chimi Mouryou!! Gen...   \n",
       "10896    34096                                     Gintama (2017)   \n",
       "10897    34134                                    One Punch Man 2   \n",
       "10898    30484                                      Steins;Gate 0   \n",
       "\n",
       "                                                   genre  type episodes  \\\n",
       "8968                              Action, Comedy, Sci-Fi    TV       10   \n",
       "9657                                Comedy, Supernatural    TV        2   \n",
       "10896  Action, Comedy, Historical, Parody, Samurai, S...    TV        2   \n",
       "10897  Action, Comedy, Parody, Sci-Fi, Seinen, Super ...    TV        2   \n",
       "10898                                   Sci-Fi, Thriller  None        2   \n",
       "\n",
       "      rating members  \n",
       "8968     NaN      32  \n",
       "9657     NaN     129  \n",
       "10896    NaN   13383  \n",
       "10897    NaN   90706  \n",
       "10898    NaN   60999  "
      ]
     },
     "execution_count": 13,
     "metadata": {},
     "output_type": "execute_result"
    }
   ],
   "source": [
    "df_anime[df_anime['rating'].isnull()].head()"
   ]
  },
  {
   "cell_type": "code",
   "execution_count": 14,
   "metadata": {},
   "outputs": [
    {
     "name": "stdout",
     "output_type": "stream",
     "text": [
      "There are 227 records containing unkown ratings\n"
     ]
    }
   ],
   "source": [
    "print('There are %d records containing unkown ratings' %(len(df_anime[df_anime['rating'].isnull()])))"
   ]
  },
  {
   "cell_type": "code",
   "execution_count": 15,
   "metadata": {},
   "outputs": [],
   "source": [
    "df_anime[\"rating\"] = df_anime[\"rating\"].astype(float)"
   ]
  },
  {
   "cell_type": "code",
   "execution_count": 16,
   "metadata": {},
   "outputs": [],
   "source": [
    "df_anime[\"rating\"].fillna(df_anime[\"rating\"].median(),inplace = True)"
   ]
  },
  {
   "cell_type": "code",
   "execution_count": 17,
   "metadata": {},
   "outputs": [],
   "source": [
    "assert len(df_anime[df_anime['rating'].isnull()]) == 0"
   ]
  },
  {
   "cell_type": "markdown",
   "metadata": {},
   "source": [
    "- 3.Categorical\n",
    "    - Based on the observation, we can deal with type as categorical matrixs"
   ]
  },
  {
   "cell_type": "code",
   "execution_count": 18,
   "metadata": {},
   "outputs": [
    {
     "data": {
      "text/html": [
       "<div>\n",
       "<style scoped>\n",
       "    .dataframe tbody tr th:only-of-type {\n",
       "        vertical-align: middle;\n",
       "    }\n",
       "\n",
       "    .dataframe tbody tr th {\n",
       "        vertical-align: top;\n",
       "    }\n",
       "\n",
       "    .dataframe thead th {\n",
       "        text-align: right;\n",
       "    }\n",
       "</style>\n",
       "<table border=\"1\" class=\"dataframe\">\n",
       "  <thead>\n",
       "    <tr style=\"text-align: right;\">\n",
       "      <th></th>\n",
       "      <th>type_1</th>\n",
       "      <th>type_Movie</th>\n",
       "      <th>type_Music</th>\n",
       "      <th>type_ONA</th>\n",
       "      <th>type_OVA</th>\n",
       "      <th>type_Special</th>\n",
       "      <th>type_TV</th>\n",
       "    </tr>\n",
       "  </thead>\n",
       "  <tbody>\n",
       "    <tr>\n",
       "      <th>0</th>\n",
       "      <td>0</td>\n",
       "      <td>1</td>\n",
       "      <td>0</td>\n",
       "      <td>0</td>\n",
       "      <td>0</td>\n",
       "      <td>0</td>\n",
       "      <td>0</td>\n",
       "    </tr>\n",
       "    <tr>\n",
       "      <th>1</th>\n",
       "      <td>0</td>\n",
       "      <td>0</td>\n",
       "      <td>0</td>\n",
       "      <td>0</td>\n",
       "      <td>0</td>\n",
       "      <td>0</td>\n",
       "      <td>1</td>\n",
       "    </tr>\n",
       "    <tr>\n",
       "      <th>2</th>\n",
       "      <td>0</td>\n",
       "      <td>0</td>\n",
       "      <td>0</td>\n",
       "      <td>0</td>\n",
       "      <td>0</td>\n",
       "      <td>0</td>\n",
       "      <td>1</td>\n",
       "    </tr>\n",
       "    <tr>\n",
       "      <th>3</th>\n",
       "      <td>0</td>\n",
       "      <td>0</td>\n",
       "      <td>0</td>\n",
       "      <td>0</td>\n",
       "      <td>0</td>\n",
       "      <td>0</td>\n",
       "      <td>1</td>\n",
       "    </tr>\n",
       "    <tr>\n",
       "      <th>4</th>\n",
       "      <td>0</td>\n",
       "      <td>0</td>\n",
       "      <td>0</td>\n",
       "      <td>0</td>\n",
       "      <td>0</td>\n",
       "      <td>0</td>\n",
       "      <td>1</td>\n",
       "    </tr>\n",
       "  </tbody>\n",
       "</table>\n",
       "</div>"
      ],
      "text/plain": [
       "   type_1  type_Movie  type_Music  type_ONA  type_OVA  type_Special  type_TV\n",
       "0       0           1           0         0         0             0        0\n",
       "1       0           0           0         0         0             0        1\n",
       "2       0           0           0         0         0             0        1\n",
       "3       0           0           0         0         0             0        1\n",
       "4       0           0           0         0         0             0        1"
      ]
     },
     "execution_count": 18,
     "metadata": {},
     "output_type": "execute_result"
    }
   ],
   "source": [
    "pd.get_dummies(df_anime[[\"type\"]]).head()"
   ]
  },
  {
   "cell_type": "markdown",
   "metadata": {},
   "source": [
    "- 4.Convert string into float"
   ]
  },
  {
   "cell_type": "code",
   "execution_count": 19,
   "metadata": {},
   "outputs": [],
   "source": [
    "df_anime[\"members\"] = df_anime[\"members\"].astype(float)"
   ]
  },
  {
   "cell_type": "markdown",
   "metadata": {},
   "source": [
    "## Feature Engineering"
   ]
  },
  {
   "cell_type": "code",
   "execution_count": 20,
   "metadata": {},
   "outputs": [],
   "source": [
    "anime_features = pd.concat([df_anime[\"genre\"].str.get_dummies(sep=\",\"), \\\n",
    "                            pd.get_dummies(df_anime[[\"type\"]]),df_anime[[\"rating\"]],df_anime[[\"members\"]], \\\n",
    "                            df_anime[\"episodes\"]], \\\n",
    "                            axis=1)"
   ]
  },
  {
   "cell_type": "code",
   "execution_count": 21,
   "metadata": {},
   "outputs": [],
   "source": [
    "assert len(anime_features) == len(df_anime)"
   ]
  },
  {
   "cell_type": "code",
   "execution_count": 22,
   "metadata": {},
   "outputs": [
    {
     "data": {
      "text/html": [
       "<div>\n",
       "<style scoped>\n",
       "    .dataframe tbody tr th:only-of-type {\n",
       "        vertical-align: middle;\n",
       "    }\n",
       "\n",
       "    .dataframe tbody tr th {\n",
       "        vertical-align: top;\n",
       "    }\n",
       "\n",
       "    .dataframe thead th {\n",
       "        text-align: right;\n",
       "    }\n",
       "</style>\n",
       "<table border=\"1\" class=\"dataframe\">\n",
       "  <thead>\n",
       "    <tr style=\"text-align: right;\">\n",
       "      <th></th>\n",
       "      <th>Adventure</th>\n",
       "      <th>Cars</th>\n",
       "      <th>Comedy</th>\n",
       "      <th>Dementia</th>\n",
       "      <th>Demons</th>\n",
       "      <th>Drama</th>\n",
       "      <th>Ecchi</th>\n",
       "      <th>Fantasy</th>\n",
       "      <th>Game</th>\n",
       "      <th>Harem</th>\n",
       "      <th>...</th>\n",
       "      <th>type_1</th>\n",
       "      <th>type_Movie</th>\n",
       "      <th>type_Music</th>\n",
       "      <th>type_ONA</th>\n",
       "      <th>type_OVA</th>\n",
       "      <th>type_Special</th>\n",
       "      <th>type_TV</th>\n",
       "      <th>rating</th>\n",
       "      <th>members</th>\n",
       "      <th>episodes</th>\n",
       "    </tr>\n",
       "  </thead>\n",
       "  <tbody>\n",
       "    <tr>\n",
       "      <th>0</th>\n",
       "      <td>0</td>\n",
       "      <td>0</td>\n",
       "      <td>0</td>\n",
       "      <td>0</td>\n",
       "      <td>0</td>\n",
       "      <td>0</td>\n",
       "      <td>0</td>\n",
       "      <td>0</td>\n",
       "      <td>0</td>\n",
       "      <td>0</td>\n",
       "      <td>...</td>\n",
       "      <td>0</td>\n",
       "      <td>1</td>\n",
       "      <td>0</td>\n",
       "      <td>0</td>\n",
       "      <td>0</td>\n",
       "      <td>0</td>\n",
       "      <td>0</td>\n",
       "      <td>9.37</td>\n",
       "      <td>200630.0</td>\n",
       "      <td>1</td>\n",
       "    </tr>\n",
       "    <tr>\n",
       "      <th>1</th>\n",
       "      <td>1</td>\n",
       "      <td>0</td>\n",
       "      <td>0</td>\n",
       "      <td>0</td>\n",
       "      <td>0</td>\n",
       "      <td>1</td>\n",
       "      <td>0</td>\n",
       "      <td>1</td>\n",
       "      <td>0</td>\n",
       "      <td>0</td>\n",
       "      <td>...</td>\n",
       "      <td>0</td>\n",
       "      <td>0</td>\n",
       "      <td>0</td>\n",
       "      <td>0</td>\n",
       "      <td>0</td>\n",
       "      <td>0</td>\n",
       "      <td>1</td>\n",
       "      <td>9.26</td>\n",
       "      <td>793665.0</td>\n",
       "      <td>64</td>\n",
       "    </tr>\n",
       "    <tr>\n",
       "      <th>2</th>\n",
       "      <td>0</td>\n",
       "      <td>0</td>\n",
       "      <td>1</td>\n",
       "      <td>0</td>\n",
       "      <td>0</td>\n",
       "      <td>0</td>\n",
       "      <td>0</td>\n",
       "      <td>0</td>\n",
       "      <td>0</td>\n",
       "      <td>0</td>\n",
       "      <td>...</td>\n",
       "      <td>0</td>\n",
       "      <td>0</td>\n",
       "      <td>0</td>\n",
       "      <td>0</td>\n",
       "      <td>0</td>\n",
       "      <td>0</td>\n",
       "      <td>1</td>\n",
       "      <td>9.25</td>\n",
       "      <td>114262.0</td>\n",
       "      <td>51</td>\n",
       "    </tr>\n",
       "    <tr>\n",
       "      <th>3</th>\n",
       "      <td>0</td>\n",
       "      <td>0</td>\n",
       "      <td>0</td>\n",
       "      <td>0</td>\n",
       "      <td>0</td>\n",
       "      <td>0</td>\n",
       "      <td>0</td>\n",
       "      <td>0</td>\n",
       "      <td>0</td>\n",
       "      <td>0</td>\n",
       "      <td>...</td>\n",
       "      <td>0</td>\n",
       "      <td>0</td>\n",
       "      <td>0</td>\n",
       "      <td>0</td>\n",
       "      <td>0</td>\n",
       "      <td>0</td>\n",
       "      <td>1</td>\n",
       "      <td>9.17</td>\n",
       "      <td>673572.0</td>\n",
       "      <td>24</td>\n",
       "    </tr>\n",
       "    <tr>\n",
       "      <th>4</th>\n",
       "      <td>0</td>\n",
       "      <td>0</td>\n",
       "      <td>1</td>\n",
       "      <td>0</td>\n",
       "      <td>0</td>\n",
       "      <td>0</td>\n",
       "      <td>0</td>\n",
       "      <td>0</td>\n",
       "      <td>0</td>\n",
       "      <td>0</td>\n",
       "      <td>...</td>\n",
       "      <td>0</td>\n",
       "      <td>0</td>\n",
       "      <td>0</td>\n",
       "      <td>0</td>\n",
       "      <td>0</td>\n",
       "      <td>0</td>\n",
       "      <td>1</td>\n",
       "      <td>9.16</td>\n",
       "      <td>151266.0</td>\n",
       "      <td>51</td>\n",
       "    </tr>\n",
       "  </tbody>\n",
       "</table>\n",
       "<p>5 rows × 93 columns</p>\n",
       "</div>"
      ],
      "text/plain": [
       "    Adventure   Cars   Comedy   Dementia   Demons   Drama   Ecchi   Fantasy  \\\n",
       "0           0      0        0          0        0       0       0         0   \n",
       "1           1      0        0          0        0       1       0         1   \n",
       "2           0      0        1          0        0       0       0         0   \n",
       "3           0      0        0          0        0       0       0         0   \n",
       "4           0      0        1          0        0       0       0         0   \n",
       "\n",
       "    Game   Harem    ...     type_1  type_Movie  type_Music  type_ONA  \\\n",
       "0      0       0    ...          0           1           0         0   \n",
       "1      0       0    ...          0           0           0         0   \n",
       "2      0       0    ...          0           0           0         0   \n",
       "3      0       0    ...          0           0           0         0   \n",
       "4      0       0    ...          0           0           0         0   \n",
       "\n",
       "   type_OVA  type_Special  type_TV  rating   members  episodes  \n",
       "0         0             0        0    9.37  200630.0         1  \n",
       "1         0             0        1    9.26  793665.0        64  \n",
       "2         0             0        1    9.25  114262.0        51  \n",
       "3         0             0        1    9.17  673572.0        24  \n",
       "4         0             0        1    9.16  151266.0        51  \n",
       "\n",
       "[5 rows x 93 columns]"
      ]
     },
     "execution_count": 22,
     "metadata": {},
     "output_type": "execute_result"
    }
   ],
   "source": [
    "anime_features.head()"
   ]
  },
  {
   "cell_type": "code",
   "execution_count": 23,
   "metadata": {},
   "outputs": [],
   "source": [
    "df_anime[\"name\"] = df_anime[\"name\"].map(lambda name:re.sub('[^A-Za-z0-9]+', \" \", name))"
   ]
  },
  {
   "cell_type": "code",
   "execution_count": 24,
   "metadata": {},
   "outputs": [
    {
     "name": "stdout",
     "output_type": "stream",
     "text": [
      "There are 93 features in this project\n",
      "Index([' Adventure', ' Cars', ' Comedy', ' Dementia', ' Demons', ' Drama',\n",
      "       ' Ecchi', ' Fantasy', ' Game', ' Harem', ' Hentai', ' Historical',\n",
      "       ' Horror', ' Josei', ' Kids', ' Magic', ' Martial Arts', ' Mecha',\n",
      "       ' Military', ' Music', ' Mystery', ' Parody', ' Police',\n",
      "       ' Psychological', ' Romance', ' Samurai', ' School', ' Sci-Fi',\n",
      "       ' Seinen', ' Shoujo', ' Shoujo Ai', ' Shounen', ' Shounen Ai',\n",
      "       ' Slice of Life', ' Space', ' Sports', ' Super Power', ' Supernatural',\n",
      "       ' Thriller', ' Vampire', ' Yaoi', ' Yuri', '1', 'Action', 'Adventure',\n",
      "       'Cars', 'Comedy', 'Dementia', 'Demons', 'Drama', 'Ecchi', 'Fantasy',\n",
      "       'Game', 'Harem', 'Hentai', 'Historical', 'Horror', 'Josei', 'Kids',\n",
      "       'Magic', 'Martial Arts', 'Mecha', 'Military', 'Music', 'Mystery',\n",
      "       'Parody', 'Police', 'Psychological', 'Romance', 'Samurai', 'School',\n",
      "       'Sci-Fi', 'Seinen', 'Shoujo', 'Shounen', 'Slice of Life', 'Space',\n",
      "       'Sports', 'Super Power', 'Supernatural', 'Thriller', 'Vampire', 'Yaoi',\n",
      "       'type_1', 'type_Movie', 'type_Music', 'type_ONA', 'type_OVA',\n",
      "       'type_Special', 'type_TV', 'rating', 'members', 'episodes'],\n",
      "      dtype='object')\n"
     ]
    }
   ],
   "source": [
    "### check features\n",
    "print('There are %d features in this project' %(len(anime_features.columns)))\n",
    "print(anime_features.columns)"
   ]
  },
  {
   "cell_type": "markdown",
   "metadata": {},
   "source": [
    "- Normalization"
   ]
  },
  {
   "cell_type": "code",
   "execution_count": 25,
   "metadata": {},
   "outputs": [],
   "source": [
    "max_abs_scaler = MaxAbsScaler()\n",
    "anime_features = max_abs_scaler.fit_transform(anime_features)"
   ]
  },
  {
   "cell_type": "code",
   "execution_count": 26,
   "metadata": {},
   "outputs": [
    {
     "name": "stdout",
     "output_type": "stream",
     "text": [
      "[[0.00000000e+00 0.00000000e+00 0.00000000e+00 ... 9.37000000e-01\n",
      "  1.97876158e-01 5.50055006e-04]\n",
      " [1.00000000e+00 0.00000000e+00 0.00000000e+00 ... 9.26000000e-01\n",
      "  7.82771174e-01 3.52035204e-02]\n",
      " [0.00000000e+00 0.00000000e+00 1.00000000e+00 ... 9.25000000e-01\n",
      "  1.12693643e-01 2.80528053e-02]\n",
      " ...\n",
      " [0.00000000e+00 0.00000000e+00 0.00000000e+00 ... 4.88000000e-01\n",
      "  2.15994011e-04 2.20022002e-03]\n",
      " [0.00000000e+00 0.00000000e+00 0.00000000e+00 ... 4.98000000e-01\n",
      "  1.72597954e-04 5.50055006e-04]\n",
      " [0.00000000e+00 0.00000000e+00 0.00000000e+00 ... 5.46000000e-01\n",
      "  1.40050911e-04 5.50055006e-04]]\n"
     ]
    },
    {
     "data": {
      "text/plain": [
       "(12294, 93)"
      ]
     },
     "execution_count": 26,
     "metadata": {},
     "output_type": "execute_result"
    }
   ],
   "source": [
    "print(anime_features)\n",
    "anime_features.shape"
   ]
  },
  {
   "cell_type": "markdown",
   "metadata": {},
   "source": [
    "## Deal with similarity with KNN"
   ]
  },
  {
   "cell_type": "code",
   "execution_count": 27,
   "metadata": {},
   "outputs": [],
   "source": [
    "nbrs = NearestNeighbors(n_neighbors=6, algorithm='ball_tree').fit(anime_features)"
   ]
  },
  {
   "cell_type": "code",
   "execution_count": 28,
   "metadata": {},
   "outputs": [],
   "source": [
    "distances, indices = nbrs.kneighbors(anime_features)"
   ]
  },
  {
   "cell_type": "code",
   "execution_count": 29,
   "metadata": {},
   "outputs": [],
   "source": [
    "ind_df = pd.DataFrame(indices[:,1:], columns=['id'+str(i) for i in range(1,len(indices[0]))])"
   ]
  },
  {
   "cell_type": "code",
   "execution_count": 30,
   "metadata": {},
   "outputs": [],
   "source": [
    "ind_df['id0'] = df_anime['anime_id'][indices[:,0]].values"
   ]
  },
  {
   "cell_type": "markdown",
   "metadata": {},
   "source": [
    "## Save results to database"
   ]
  },
  {
   "cell_type": "code",
   "execution_count": 31,
   "metadata": {},
   "outputs": [],
   "source": [
    "ind_df.to_sql('content-based', con=engine, index=False)"
   ]
  },
  {
   "cell_type": "markdown",
   "metadata": {},
   "source": [
    "## Query Example"
   ]
  },
  {
   "cell_type": "code",
   "execution_count": 32,
   "metadata": {},
   "outputs": [],
   "source": [
    "def get_index_from_name(name):\n",
    "    return df_anime[df_anime[\"name\"]==name].index.tolist()[0]"
   ]
  },
  {
   "cell_type": "code",
   "execution_count": 33,
   "metadata": {},
   "outputs": [
    {
     "name": "stdout",
     "output_type": "stream",
     "text": [
      "252\n"
     ]
    }
   ],
   "source": [
    "### eg:\n",
    "inx_conan = get_index_from_name(\"Detective Conan\")\n",
    "print(inx_conan)"
   ]
  },
  {
   "cell_type": "code",
   "execution_count": 34,
   "metadata": {},
   "outputs": [
    {
     "data": {
      "text/plain": [
       "array([0.        , 1.11184871, 1.11347792, 1.11494572, 1.11576665,\n",
       "       1.49184305])"
      ]
     },
     "execution_count": 34,
     "metadata": {},
     "output_type": "execute_result"
    }
   ],
   "source": [
    "distances[inx_conan]"
   ]
  },
  {
   "cell_type": "code",
   "execution_count": 35,
   "metadata": {},
   "outputs": [
    {
     "data": {
      "text/plain": [
       "array([ 252, 2482, 3066, 3653, 2951, 1713], dtype=int64)"
      ]
     },
     "execution_count": 35,
     "metadata": {},
     "output_type": "execute_result"
    }
   ],
   "source": [
    "indices[inx_conan]"
   ]
  },
  {
   "cell_type": "code",
   "execution_count": 36,
   "metadata": {},
   "outputs": [],
   "source": [
    "all_anime_names = list(df_anime.name.values)"
   ]
  },
  {
   "cell_type": "code",
   "execution_count": 37,
   "metadata": {},
   "outputs": [],
   "source": [
    "def get_id_from_partial_name(partial):\n",
    "    ID = []\n",
    "    for name in all_anime_names:\n",
    "        if partial in name:\n",
    "            print(name,all_anime_names.index(name))\n",
    "            ID.append((name,all_anime_names.index(name)))\n",
    "    return ID"
   ]
  },
  {
   "cell_type": "code",
   "execution_count": 38,
   "metadata": {},
   "outputs": [],
   "source": [
    "\"\"\" print_similar_query can search for similar animes both by id and by name. \"\"\"\n",
    "\n",
    "def print_similar_animes(query=None,id=None):\n",
    "    similar_result = []\n",
    "    if id:\n",
    "        for id in indices[id][1:]:\n",
    "            print(df_anime.iloc[id][\"name\"])\n",
    "            similar_result.append(df_anime.iloc[id][\"name\"])\n",
    "    if query:\n",
    "        found_id = get_index_from_name(query)\n",
    "        for id in indices[found_id][1:]:\n",
    "            print(df_anime.iloc[id][\"name\"])\n",
    "            similar_result.append(df_anime.iloc[id][\"name\"])\n",
    "    return similar_result"
   ]
  },
  {
   "cell_type": "code",
   "execution_count": 39,
   "metadata": {},
   "outputs": [
    {
     "name": "stdout",
     "output_type": "stream",
     "text": [
      "Kaitou Joker 2nd Season\n",
      "Kaitou Joker 3rd Season\n",
      "Kaitou Joker\n",
      "Kaitou Joker 4th Season\n",
      "Meitantei Holmes\n"
     ]
    },
    {
     "data": {
      "text/plain": [
       "['Kaitou Joker 2nd Season',\n",
       " 'Kaitou Joker 3rd Season',\n",
       " 'Kaitou Joker',\n",
       " 'Kaitou Joker 4th Season',\n",
       " 'Meitantei Holmes']"
      ]
     },
     "execution_count": 39,
     "metadata": {},
     "output_type": "execute_result"
    }
   ],
   "source": [
    "print_similar_animes(query=\"Detective Conan\")"
   ]
  },
  {
   "cell_type": "code",
   "execution_count": 40,
   "metadata": {},
   "outputs": [
    {
     "name": "stdout",
     "output_type": "stream",
     "text": [
      "Noragami Aragoto\n",
      "JoJo no Kimyou na Bouken TV \n",
      "JoJo no Kimyou na Bouken Stardust Crusaders\n",
      "JoJo no Kimyou na Bouken Stardust Crusaders 2nd Season\n",
      "Yumekui Merry\n"
     ]
    },
    {
     "data": {
      "text/plain": [
       "['Noragami Aragoto',\n",
       " 'JoJo no Kimyou na Bouken TV ',\n",
       " 'JoJo no Kimyou na Bouken Stardust Crusaders',\n",
       " 'JoJo no Kimyou na Bouken Stardust Crusaders 2nd Season',\n",
       " 'Yumekui Merry']"
      ]
     },
     "execution_count": 40,
     "metadata": {},
     "output_type": "execute_result"
    }
   ],
   "source": [
    "print_similar_animes(\"Noragami\")"
   ]
  },
  {
   "cell_type": "code",
   "execution_count": 41,
   "metadata": {},
   "outputs": [
    {
     "name": "stdout",
     "output_type": "stream",
     "text": [
      "Detective Conan Movie 06 The Phantom of Baker Street 137\n",
      "Detective Conan Movie 13 The Raven Chaser 165\n",
      "Detective Conan Movie 20 The Darkest Nightmare 205\n",
      "Detective Conan Movie 14 The Lost Ship in the Sky 227\n",
      "Detective Conan 252\n",
      "Detective Conan Movie 05 Countdown to Heaven 253\n",
      "Detective Conan Movie 08 Magician of the Silver Sky 274\n",
      "Detective Conan Movie 10 Requiem of the Detectives 293\n",
      "Detective Conan Movie 18 The Sniper from Another Dimension 332\n",
      "Detective Conan Movie 03 The Last Wizard of the Century 344\n",
      "Detective Conan Movie 04 Captured in Her Eyes 345\n",
      "Detective Conan Movie 15 Quarter of Silence 378\n",
      "Detective Conan OVA 09 The Stranger in 10 Years  454\n",
      "Lupin III vs Detective Conan The Movie 472\n",
      "Detective Conan Movie 02 The Fourteenth Target 524\n",
      "Detective Conan Movie 01 The Timed Skyscraper 544\n",
      "Detective Conan Movie 07 Crossroad in the Ancient Capital 545\n",
      "Detective Conan Movie 08 Time Travel of the Silver Sky 586\n",
      "Detective Conan OVA 10 Kid in Trap Island 587\n",
      "Detective Conan Movie 09 Strategy Above the Depths 605\n",
      "Detective Conan Movie 12 Full Score of Fear 606\n",
      "Detective Conan Episode One Chiisaku Natta Meitantei 645\n",
      "Lupin III vs Detective Conan 695\n",
      "Detective Conan Movie 16 The Eleventh Striker 745\n",
      "Detective Conan Movie 10 Promo Special 759\n",
      "Detective Conan Movie 17 Private Eye in the Distant Sea 779\n",
      "Detective Conan Conan vs Kid Shark amp Jewel 810\n",
      "Detective Conan Movie 19 The Hellfire Sunflowers 928\n",
      "Detective Conan Movie 09 Promo Special 948\n",
      "Detective Conan Black History 970\n",
      "Detective Conan Magic File 4 Osaka Okonomiyaki Odyssey 1113\n",
      "Detective Conan Magic File 2 Kudou Shinichi The Case of the Mysterious Wall and the Black Lab 1133\n",
      "Detective Conan Conan vs Kid Jet Black Sniper 1134\n",
      "Detective Conan Black History 2 1158\n",
      "Detective Conan OVA 04 Conan and Kid and Crystal Mother 1179\n",
      "Detective Conan Movie 11 Jolly Roger in the Deep Azure 1278\n",
      "Detective Conan Magic File 3 Shinichi and Ran Memories of Mahjong Tiles and Tanabata 1353\n",
      "Detective Conan OVA 06 Follow the Vanished Diamond Conan amp Heiji vs Kid  1377\n",
      "Detective Conan Bonus File Fantasista Flower 1524\n",
      "Detective Conan OVA 11 A Secret Order from London 1525\n",
      "Detective Conan Magic File 5 Niigata Tokyo Omiyage Capriccio 1655\n",
      "Detective Conan OVA 02 16 Suspects 1810\n",
      "Detective Conan OVA 07 A Challenge from Agasa Agasa vs Conan and the Detective Boys 2002\n",
      "Detective Conan OVA 01 Conan vs Kid vs Yaiba 2033\n",
      "Detective Conan OVA 05 The Target is Kogoro The Detective Boys 039 Secret Investigation 2034\n",
      "Detective Conan OVA 03 Conan and Heiji and the Vanished Boy 2260\n",
      "Detective Conan OVA 08 High School Girl Detective Sonoko Suzuki 039 s Case Files 2291\n",
      "Detective Conan Happy New Year Special 2834\n",
      "Detective Conan OVA 12 The Miracle of Excalibur 2872\n",
      "Detective Conan The Fugitive Kogorou Mouri 3328\n",
      "Detective Conan Nazo no Suisei Kaijuu wo Oe  4830\n",
      "Detective Conan vs Wooo 6352\n",
      "Detective Conan Movie 21 Deep Red Love Letter 10969\n"
     ]
    },
    {
     "data": {
      "text/plain": [
       "[('Detective Conan Movie 06 The Phantom of Baker Street', 137),\n",
       " ('Detective Conan Movie 13 The Raven Chaser', 165),\n",
       " ('Detective Conan Movie 20 The Darkest Nightmare', 205),\n",
       " ('Detective Conan Movie 14 The Lost Ship in the Sky', 227),\n",
       " ('Detective Conan', 252),\n",
       " ('Detective Conan Movie 05 Countdown to Heaven', 253),\n",
       " ('Detective Conan Movie 08 Magician of the Silver Sky', 274),\n",
       " ('Detective Conan Movie 10 Requiem of the Detectives', 293),\n",
       " ('Detective Conan Movie 18 The Sniper from Another Dimension', 332),\n",
       " ('Detective Conan Movie 03 The Last Wizard of the Century', 344),\n",
       " ('Detective Conan Movie 04 Captured in Her Eyes', 345),\n",
       " ('Detective Conan Movie 15 Quarter of Silence', 378),\n",
       " ('Detective Conan OVA 09 The Stranger in 10 Years ', 454),\n",
       " ('Lupin III vs Detective Conan The Movie', 472),\n",
       " ('Detective Conan Movie 02 The Fourteenth Target', 524),\n",
       " ('Detective Conan Movie 01 The Timed Skyscraper', 544),\n",
       " ('Detective Conan Movie 07 Crossroad in the Ancient Capital', 545),\n",
       " ('Detective Conan Movie 08 Time Travel of the Silver Sky', 586),\n",
       " ('Detective Conan OVA 10 Kid in Trap Island', 587),\n",
       " ('Detective Conan Movie 09 Strategy Above the Depths', 605),\n",
       " ('Detective Conan Movie 12 Full Score of Fear', 606),\n",
       " ('Detective Conan Episode One Chiisaku Natta Meitantei', 645),\n",
       " ('Lupin III vs Detective Conan', 695),\n",
       " ('Detective Conan Movie 16 The Eleventh Striker', 745),\n",
       " ('Detective Conan Movie 10 Promo Special', 759),\n",
       " ('Detective Conan Movie 17 Private Eye in the Distant Sea', 779),\n",
       " ('Detective Conan Conan vs Kid Shark amp Jewel', 810),\n",
       " ('Detective Conan Movie 19 The Hellfire Sunflowers', 928),\n",
       " ('Detective Conan Movie 09 Promo Special', 948),\n",
       " ('Detective Conan Black History', 970),\n",
       " ('Detective Conan Magic File 4 Osaka Okonomiyaki Odyssey', 1113),\n",
       " ('Detective Conan Magic File 2 Kudou Shinichi The Case of the Mysterious Wall and the Black Lab',\n",
       "  1133),\n",
       " ('Detective Conan Conan vs Kid Jet Black Sniper', 1134),\n",
       " ('Detective Conan Black History 2', 1158),\n",
       " ('Detective Conan OVA 04 Conan and Kid and Crystal Mother', 1179),\n",
       " ('Detective Conan Movie 11 Jolly Roger in the Deep Azure', 1278),\n",
       " ('Detective Conan Magic File 3 Shinichi and Ran Memories of Mahjong Tiles and Tanabata',\n",
       "  1353),\n",
       " ('Detective Conan OVA 06 Follow the Vanished Diamond Conan amp Heiji vs Kid ',\n",
       "  1377),\n",
       " ('Detective Conan Bonus File Fantasista Flower', 1524),\n",
       " ('Detective Conan OVA 11 A Secret Order from London', 1525),\n",
       " ('Detective Conan Magic File 5 Niigata Tokyo Omiyage Capriccio', 1655),\n",
       " ('Detective Conan OVA 02 16 Suspects', 1810),\n",
       " ('Detective Conan OVA 07 A Challenge from Agasa Agasa vs Conan and the Detective Boys',\n",
       "  2002),\n",
       " ('Detective Conan OVA 01 Conan vs Kid vs Yaiba', 2033),\n",
       " ('Detective Conan OVA 05 The Target is Kogoro The Detective Boys 039 Secret Investigation',\n",
       "  2034),\n",
       " ('Detective Conan OVA 03 Conan and Heiji and the Vanished Boy', 2260),\n",
       " ('Detective Conan OVA 08 High School Girl Detective Sonoko Suzuki 039 s Case Files',\n",
       "  2291),\n",
       " ('Detective Conan Happy New Year Special', 2834),\n",
       " ('Detective Conan OVA 12 The Miracle of Excalibur', 2872),\n",
       " ('Detective Conan The Fugitive Kogorou Mouri', 3328),\n",
       " ('Detective Conan Nazo no Suisei Kaijuu wo Oe ', 4830),\n",
       " ('Detective Conan vs Wooo', 6352),\n",
       " ('Detective Conan Movie 21 Deep Red Love Letter', 10969)]"
      ]
     },
     "execution_count": 41,
     "metadata": {},
     "output_type": "execute_result"
    }
   ],
   "source": [
    "get_id_from_partial_name(\"Detective Conan\")"
   ]
  },
  {
   "cell_type": "code",
   "execution_count": 42,
   "metadata": {},
   "outputs": [
    {
     "name": "stdout",
     "output_type": "stream",
     "text": [
      "Kokoro ga Sakebitagatterunda \n",
      "Harmonie\n",
      "Air Movie\n",
      "Hotarubi no Mori e\n",
      "Clannad Movie\n"
     ]
    },
    {
     "data": {
      "text/plain": [
       "['Kokoro ga Sakebitagatterunda ',\n",
       " 'Harmonie',\n",
       " 'Air Movie',\n",
       " 'Hotarubi no Mori e',\n",
       " 'Clannad Movie']"
      ]
     },
     "execution_count": 42,
     "metadata": {},
     "output_type": "execute_result"
    }
   ],
   "source": [
    "print_similar_animes(\"Kimi no Na wa \")"
   ]
  },
  {
   "cell_type": "code",
   "execution_count": null,
   "metadata": {},
   "outputs": [],
   "source": []
  }
 ],
 "metadata": {
  "kernelspec": {
   "display_name": "Python 3",
   "language": "python",
   "name": "python3"
  },
  "language_info": {
   "codemirror_mode": {
    "name": "ipython",
    "version": 3
   },
   "file_extension": ".py",
   "mimetype": "text/x-python",
   "name": "python",
   "nbconvert_exporter": "python",
   "pygments_lexer": "ipython3",
   "version": "3.7.1"
  }
 },
 "nbformat": 4,
 "nbformat_minor": 2
}
